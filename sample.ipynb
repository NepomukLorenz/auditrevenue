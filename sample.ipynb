{
 "cells": [
  {
   "cell_type": "markdown",
   "id": "8d764e45",
   "metadata": {},
   "source": [
    "# Einlesen und Übergabe der Parameter"
   ]
  },
  {
   "cell_type": "code",
   "execution_count": 1,
   "id": "38002907",
   "metadata": {},
   "outputs": [],
   "source": [
    "import pandas as pd\n",
    "\n",
    "path_to_journL_year_one = r\"Muster_Journal.xlsx\" #Vorjahr\n",
    "path_to_journL_year_two = r\"Muster_Journal.xlsx\" #Berichtsjahr\n",
    "path_to_journL_year_three = r\"Muster_Journal.xlsx\" #Folgejahr\n",
    "\n",
    "columns = {\n",
    "    \"KONTO_NR\":   \"string\",\n",
    "    \"KONTO_BEZ\":  \"string\",\n",
    "    \"GKTO_NR\":    \"string\",\n",
    "    \"GKTO_BEZ\":   \"string\",\n",
    "    \"SOLL\":       \"float32\",\n",
    "    \"HABEN\":      \"float32\",\n",
    "    \"SALDO_S_H\":  \"float32\",\n",
    "    \"JOURNAL_NR\": \"string\",\n",
    "    \"BELEG_DAT\":  \"string\",\n",
    "}\n",
    "col_list = list(columns.keys())\n",
    "\n",
    "df1 = pd.read_excel(\n",
    "    path_to_journL_year_one,\n",
    "    usecols=list(columns.keys()),\n",
    "    dtype=columns,\n",
    "    engine=\"openpyxl\",\n",
    ")\n",
    "\n",
    "df2 = pd.read_excel(\n",
    "    path_to_journL_year_two,\n",
    "    usecols=list(columns.keys()),\n",
    "    dtype=columns,\n",
    "    engine=\"openpyxl\",\n",
    ")\n",
    "\n",
    "df3 = pd.read_excel(\n",
    "    path_to_journL_year_two,\n",
    "    usecols=list(columns.keys()),\n",
    "    dtype=columns,\n",
    "    engine=\"openpyxl\",\n",
    ")"
   ]
  },
  {
   "cell_type": "markdown",
   "id": "a59c3ba3",
   "metadata": {},
   "source": [
    "# Umsatzanalyse durch Plausibilisierung mit Materialaufwand und Schichtung nach Monten"
   ]
  },
  {
   "cell_type": "code",
   "execution_count": 2,
   "id": "8bf357f5",
   "metadata": {},
   "outputs": [
    {
     "name": "stdout",
     "output_type": "stream",
     "text": [
      "        SALDO_S_H      abs_val\n",
      "2008 -1268.170044  1268.170044\n",
      "2009  -554.820007   554.820007\n",
      "2010 -2789.540039  2789.540039\n",
      "2011 -5904.470215  5904.470215\n",
      "2012 -6303.390137  6303.390137\n",
      "...           ...          ...\n",
      "3982 -2581.830078  2581.830078\n",
      "3984 -8320.089844  8320.089844\n",
      "3985 -3888.070068  3888.070068\n",
      "3987  -664.469971   664.469971\n",
      "3996 -6782.740234  6782.740234\n",
      "\n",
      "[380 rows x 2 columns]\n",
      "Materiality-Grenze: 10000\n",
      "hallo welt\n",
      "<class 'pandas.core.frame.DataFrame'>\n",
      "Index: 0 entries\n",
      "Data columns (total 11 columns):\n",
      " #   Column      Non-Null Count  Dtype         \n",
      "---  ------      --------------  -----         \n",
      " 0   KONTO_NR    0 non-null      string        \n",
      " 1   KONTO_BEZ   0 non-null      string        \n",
      " 2   GKTO_NR     0 non-null      string        \n",
      " 3   GKTO_BEZ    0 non-null      string        \n",
      " 4   SOLL        0 non-null      float32       \n",
      " 5   HABEN       0 non-null      float32       \n",
      " 6   SALDO_S_H   0 non-null      float32       \n",
      " 7   JOURNAL_NR  0 non-null      string        \n",
      " 8   kategorie   0 non-null      string        \n",
      " 9   sparte      0 non-null      string        \n",
      " 10  BELEG_DAT   0 non-null      datetime64[ns]\n",
      "dtypes: datetime64[ns](1), float32(3), string(7)\n",
      "memory usage: 0.0 bytes\n",
      "None\n"
     ]
    }
   ],
   "source": [
    "from revenue_worksheet.build import build_working_paper\n",
    "\n",
    "build_working_paper(\n",
    "    df1=df1,\n",
    "    df2=df2,\n",
    "    df3=df3,\n",
    "    col_konto=col_list[0],\n",
    "    col_saldo=col_list[6],\n",
    "    col_datum=col_list[8],\n",
    "    template_path=r\"revenue_worksheet\\template_umsatzanalyse_mit_sparten.xlsx\",\n",
    "    mapping_path=r\"Muster_Mapping.xlsx\",\n",
    "    output_path=r\"Umsatzanalyse.xlsx\",\n",
    "    mus_sample_size=10,\n",
    "    cut_off_sample_size=5,\n",
    "    materiality=10000\n",
    ")"
   ]
  },
  {
   "cell_type": "markdown",
   "id": "4f8ca9ca",
   "metadata": {},
   "source": [
    "# Gegenkontenanalyse mit Netzwerkgraph"
   ]
  },
  {
   "cell_type": "code",
   "execution_count": null,
   "id": "9b882673",
   "metadata": {},
   "outputs": [
    {
     "name": "stdout",
     "output_type": "stream",
     "text": [
      "Saldenprüfung bestanden: alle Buchungssätze summieren auf Null.\n",
      "Spiegelbuchungstest bestanden: Alle Buchungen sind symmetrisch doppelt vorhanden.\n",
      "Salden-Postulat erfüllt für alle Spiegel-Paare\n",
      "Aggregierte Soll- und Habensummen stimmen überein\n"
     ]
    },
    {
     "data": {
      "text/plain": [
       "True"
      ]
     },
     "execution_count": 3,
     "metadata": {},
     "output_type": "execute_result"
    }
   ],
   "source": [
    "from network_analysis.build import build_network_analysis\n",
    "import webbrowser\n",
    "\n",
    "build_network_analysis(\n",
    "    \"graph.html\",\n",
    "    df2, \n",
    "    col_list[0],\n",
    "    col_list[1],\n",
    "    col_list[2],\n",
    "    col_list[3],\n",
    "    col_list[4],\n",
    "    col_list[5],\n",
    "    col_list[6],\n",
    "    col_list[7],\n",
    "    10000)\n",
    "\n",
    "webbrowser.open(\"graph.html\")"
   ]
  }
 ],
 "metadata": {
  "kernelspec": {
   "display_name": "whore-venv",
   "language": "python",
   "name": "python3"
  },
  "language_info": {
   "codemirror_mode": {
    "name": "ipython",
    "version": 3
   },
   "file_extension": ".py",
   "mimetype": "text/x-python",
   "name": "python",
   "nbconvert_exporter": "python",
   "pygments_lexer": "ipython3",
   "version": "3.11.4"
  }
 },
 "nbformat": 4,
 "nbformat_minor": 5
}
