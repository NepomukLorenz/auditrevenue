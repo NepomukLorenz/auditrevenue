{
 "cells": [
  {
   "cell_type": "markdown",
   "id": "8d764e45",
   "metadata": {},
   "source": [
    "# Einlesen und Übergabe der Parameter"
   ]
  },
  {
   "cell_type": "code",
   "execution_count": 1,
   "id": "38002907",
   "metadata": {},
   "outputs": [],
   "source": [
    "import pandas as pd\n",
    "\n",
    "path_to_journL_year_one = r\"data\\Musterjournal.xlsx\" #Vorjahr\n",
    "path_to_journL_year_two = r\"data\\Musterjournal.xlsx\" #Berichtsjahr\n",
    "path_to_journL_year_three = r\"data\\Musterjournal.xlsx\" #Folgejahr\n",
    "\n",
    "columns = {\n",
    "    \"KONTO_NR\":   \"string\",\n",
    "    \"KONTO_BEZ\":  \"string\",\n",
    "    \"GKTO_NR\":    \"string\",\n",
    "    \"GKTO_BEZ\":   \"string\",\n",
    "    \"SOLL\":       \"float32\",\n",
    "    \"HABEN\":      \"float32\",\n",
    "    \"SALDO_S_H\":  \"float32\",\n",
    "    \"JOURNAL_NR\": \"string\",\n",
    "    \"BELEG_DAT\":  \"string\",\n",
    "}\n",
    "col_list = list(columns.keys())\n",
    "\n",
    "df1 = pd.read_excel(\n",
    "    path_to_journL_year_one,\n",
    "    usecols=list(columns.keys()),\n",
    "    dtype=columns,\n",
    "    engine=\"openpyxl\",\n",
    ")\n",
    "\n",
    "df2 = pd.read_excel(\n",
    "    path_to_journL_year_two,\n",
    "    usecols=list(columns.keys()),\n",
    "    dtype=columns,\n",
    "    engine=\"openpyxl\",\n",
    ")\n",
    "\n",
    "df3 = pd.read_excel(\n",
    "    path_to_journL_year_three,\n",
    "    usecols=list(columns.keys()),\n",
    "    dtype=columns,\n",
    "    engine=\"openpyxl\",\n",
    ")"
   ]
  },
  {
   "cell_type": "markdown",
   "id": "a59c3ba3",
   "metadata": {},
   "source": [
    "# Umsatzanalyse durch Plausibilisierung mit Materialaufwand und Schichtung nach Monten"
   ]
  },
  {
   "cell_type": "code",
   "execution_count": 2,
   "id": "8bf357f5",
   "metadata": {},
   "outputs": [
    {
     "name": "stdout",
     "output_type": "stream",
     "text": [
      "['Sparte 1', 'Sparte 2']\n"
     ]
    }
   ],
   "source": [
    "from revenue_worksheet.build import build_working_paper\n",
    "\n",
    "build_working_paper(\n",
    "    df1=df1,\n",
    "    df2=df2,\n",
    "    df3=df3,\n",
    "    col_konto=col_list[0],\n",
    "    col_saldo=col_list[6],\n",
    "    col_datum=col_list[8],\n",
    "    mapping_path=r\"data\\Mustermapping.xlsx\",\n",
    "    output_path=r\"data\\Umsatzanalyse.xlsx\",\n",
    "    template_path=r\"revenue_worksheet\\template_umsatzanalyse_mit_sparten.xlsx\",\n",
    "    mus_sample_size=10,\n",
    "    cut_off_sample_size=5,\n",
    "    materiality=10000\n",
    ")"
   ]
  },
  {
   "cell_type": "markdown",
   "id": "4f8ca9ca",
   "metadata": {},
   "source": [
    "# Gegenkontenanalyse mit Netzwerkgraph"
   ]
  },
  {
   "cell_type": "code",
   "execution_count": 3,
   "id": "9b882673",
   "metadata": {},
   "outputs": [
    {
     "name": "stdout",
     "output_type": "stream",
     "text": [
      "Saldenprüfung bestanden: alle Buchungssätze summieren auf Null.\n",
      "Spiegelbuchungstest bestanden: Alle Buchungen sind symmetrisch doppelt vorhanden.\n",
      "Salden-Postulat erfüllt für alle Spiegel-Paare\n",
      "Aggregierte Soll- und Habensummen stimmen überein\n"
     ]
    },
    {
     "data": {
      "text/plain": [
       "True"
      ]
     },
     "execution_count": 3,
     "metadata": {},
     "output_type": "execute_result"
    }
   ],
   "source": [
    "from network_analysis.build import build_network_analysis\n",
    "import webbrowser\n",
    "\n",
    "build_network_analysis(\n",
    "    r\"data\\graph.html\",\n",
    "    df2, \n",
    "    col_list[0],\n",
    "    col_list[1],\n",
    "    col_list[2],\n",
    "    col_list[3],\n",
    "    col_list[4],\n",
    "    col_list[5],\n",
    "    col_list[6],\n",
    "    col_list[7],\n",
    "    10000)\n",
    "\n",
    "webbrowser.open(r\"data\\graph.html\")"
   ]
  }
 ],
 "metadata": {
  "kernelspec": {
   "display_name": ".random",
   "language": "python",
   "name": "python3"
  },
  "language_info": {
   "codemirror_mode": {
    "name": "ipython",
    "version": 3
   },
   "file_extension": ".py",
   "mimetype": "text/x-python",
   "name": "python",
   "nbconvert_exporter": "python",
   "pygments_lexer": "ipython3",
   "version": "3.12.1"
  }
 },
 "nbformat": 4,
 "nbformat_minor": 5
}
